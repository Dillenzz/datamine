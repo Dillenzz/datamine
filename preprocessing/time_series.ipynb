{
 "cells": [
  {
   "cell_type": "code",
   "execution_count": 7,
   "metadata": {},
   "outputs": [],
   "source": [
    "import pandas as pd\n",
    "import sys\n",
    "import os\n",
    "\n",
    "sys.path.append(os.path.abspath(os.path.join(os.getcwd(), '..')))"
   ]
  },
  {
   "cell_type": "code",
   "execution_count": 8,
   "metadata": {},
   "outputs": [
    {
     "name": "stdout",
     "output_type": "stream",
     "text": [
      "Index(['Location', 'Period', 'advertisingBan'], dtype='object')\n",
      "Index(['Location', 'Period', 'affordability'], dtype='object')\n",
      "Index(['Location', 'Period', 'gdp2000Cigs'], dtype='object')\n",
      "Index(['Location', 'Period', 'healthWarningPhoto'], dtype='object')\n",
      "Index(['Location', 'Period', 'requiredHealthWarnings'], dtype='object')\n"
     ]
    },
    {
     "name": "stderr",
     "output_type": "stream",
     "text": [
      "C:\\Users\\Folke\\AppData\\Local\\Temp\\ipykernel_6552\\2101676913.py:19: FutureWarning: Setting an item of incompatible dtype is deprecated and will raise an error in a future version of pandas. Value 'Not Available' has dtype incompatible with float64, please explicitly cast to a compatible dtype first.\n",
      "  df.fillna(\"Not Available\", inplace=True)\n",
      "C:\\Users\\Folke\\AppData\\Local\\Temp\\ipykernel_6552\\2101676913.py:19: FutureWarning: Setting an item of incompatible dtype is deprecated and will raise an error in a future version of pandas. Value 'Not Available' has dtype incompatible with float64, please explicitly cast to a compatible dtype first.\n",
      "  df.fillna(\"Not Available\", inplace=True)\n",
      "C:\\Users\\Folke\\AppData\\Local\\Temp\\ipykernel_6552\\2101676913.py:19: FutureWarning: Setting an item of incompatible dtype is deprecated and will raise an error in a future version of pandas. Value 'Not Available' has dtype incompatible with float64, please explicitly cast to a compatible dtype first.\n",
      "  df.fillna(\"Not Available\", inplace=True)\n",
      "C:\\Users\\Folke\\AppData\\Local\\Temp\\ipykernel_6552\\2101676913.py:19: FutureWarning: Setting an item of incompatible dtype is deprecated and will raise an error in a future version of pandas. Value 'Not Available' has dtype incompatible with float64, please explicitly cast to a compatible dtype first.\n",
      "  df.fillna(\"Not Available\", inplace=True)\n",
      "C:\\Users\\Folke\\AppData\\Local\\Temp\\ipykernel_6552\\2101676913.py:19: FutureWarning: Setting an item of incompatible dtype is deprecated and will raise an error in a future version of pandas. Value 'Not Available' has dtype incompatible with float64, please explicitly cast to a compatible dtype first.\n",
      "  df.fillna(\"Not Available\", inplace=True)\n"
     ]
    }
   ],
   "source": [
    "import numpy as np\n",
    "import pandas as pd\n",
    "from sklearn.preprocessing import StandardScaler, OneHotEncoder\n",
    "from sklearn.impute import SimpleImputer\n",
    "from sklearn.compose import ColumnTransformer\n",
    "from sklearn.pipeline import Pipeline\n",
    "from sklearn.cluster import KMeans\n",
    "from sklearn.metrics import silhouette_score\n",
    "from sklearn.cluster import DBSCAN\n",
    "from utils.functions import plot_clusters_2d\n",
    "from sklearn.metrics import davies_bouldin_score\n",
    "from sklearn.metrics import silhouette_score\n",
    "from utils.functions import evaluate_clusters\n",
    "\n",
    "\n",
    "# Function to process and pivot each dataframe\n",
    "def rename_df_col(df, col_name):\n",
    "    df.fillna(df.mean(numeric_only=True), inplace=True)\n",
    "    df.fillna(\"Not Available\", inplace=True)\n",
    "    \n",
    "    df_filtered = df[['Location', 'Period', 'Value']]\n",
    "    df_renamed = df_filtered.rename(columns={'Value': col_name})\n",
    "    print(df_renamed.columns)\n",
    "    return df_renamed\n",
    "\n",
    "# Load the datasets\n",
    "advertisingBan = pd.read_csv('../data/advertising_ban_internet.csv')\n",
    "affordability = pd.read_csv('../data/affordability.csv')\n",
    "gdp2000Cigs = pd.read_csv('../data/gdp_for_2000_cigs.csv')\n",
    "healthWarningPhoto = pd.read_csv('../data/health_warning_photo.csv')\n",
    "requiredHealthWarnings = pd.read_csv('../data/required_health_warning.csv')\n",
    "\n",
    "# Process and pivot each dataframe\n",
    "advertisingBan = rename_df_col(advertisingBan, 'advertisingBan')\n",
    "affordability = rename_df_col(affordability, 'affordability')\n",
    "#ageStandardized = rename_df_col(ageStandardized, 'ageStandardized')\n",
    "gdp2000Cigs = rename_df_col(gdp2000Cigs, 'gdp2000Cigs')\n",
    "healthWarningPhoto = rename_df_col(healthWarningPhoto, 'healthWarningPhoto')\n",
    "requiredHealthWarnings = rename_df_col(requiredHealthWarnings, 'requiredHealthWarnings')"
   ]
  },
  {
   "cell_type": "code",
   "execution_count": 9,
   "metadata": {},
   "outputs": [
    {
     "data": {
      "text/html": [
       "<div>\n",
       "<style scoped>\n",
       "    .dataframe tbody tr th:only-of-type {\n",
       "        vertical-align: middle;\n",
       "    }\n",
       "\n",
       "    .dataframe tbody tr th {\n",
       "        vertical-align: top;\n",
       "    }\n",
       "\n",
       "    .dataframe thead th {\n",
       "        text-align: right;\n",
       "    }\n",
       "</style>\n",
       "<table border=\"1\" class=\"dataframe\">\n",
       "  <thead>\n",
       "    <tr style=\"text-align: right;\">\n",
       "      <th></th>\n",
       "      <th>Location</th>\n",
       "      <th>Period</th>\n",
       "      <th>advertisingBan</th>\n",
       "      <th>affordability</th>\n",
       "      <th>gdp2000Cigs</th>\n",
       "      <th>healthWarningPhoto</th>\n",
       "      <th>requiredHealthWarnings</th>\n",
       "    </tr>\n",
       "  </thead>\n",
       "  <tbody>\n",
       "    <tr>\n",
       "      <th>0</th>\n",
       "      <td>Afghanistan</td>\n",
       "      <td>2007</td>\n",
       "      <td>No</td>\n",
       "      <td>NaN</td>\n",
       "      <td>NaN</td>\n",
       "      <td>Not applicable</td>\n",
       "      <td>No</td>\n",
       "    </tr>\n",
       "    <tr>\n",
       "      <th>1</th>\n",
       "      <td>Afghanistan</td>\n",
       "      <td>2008</td>\n",
       "      <td>No</td>\n",
       "      <td>NaN</td>\n",
       "      <td>NaN</td>\n",
       "      <td>Not applicable</td>\n",
       "      <td>No</td>\n",
       "    </tr>\n",
       "    <tr>\n",
       "      <th>2</th>\n",
       "      <td>Afghanistan</td>\n",
       "      <td>2010</td>\n",
       "      <td>No</td>\n",
       "      <td>NaN</td>\n",
       "      <td>NaN</td>\n",
       "      <td>Not applicable</td>\n",
       "      <td>No</td>\n",
       "    </tr>\n",
       "    <tr>\n",
       "      <th>3</th>\n",
       "      <td>Afghanistan</td>\n",
       "      <td>2012</td>\n",
       "      <td>No</td>\n",
       "      <td>3.75</td>\n",
       "      <td>3.75</td>\n",
       "      <td>Not applicable</td>\n",
       "      <td>No</td>\n",
       "    </tr>\n",
       "    <tr>\n",
       "      <th>4</th>\n",
       "      <td>Afghanistan</td>\n",
       "      <td>2014</td>\n",
       "      <td>No</td>\n",
       "      <td>4.67</td>\n",
       "      <td>4.67</td>\n",
       "      <td>Not applicable</td>\n",
       "      <td>No</td>\n",
       "    </tr>\n",
       "    <tr>\n",
       "      <th>...</th>\n",
       "      <td>...</td>\n",
       "      <td>...</td>\n",
       "      <td>...</td>\n",
       "      <td>...</td>\n",
       "      <td>...</td>\n",
       "      <td>...</td>\n",
       "      <td>...</td>\n",
       "    </tr>\n",
       "    <tr>\n",
       "      <th>1750</th>\n",
       "      <td>occupied Palestinian territory, including east...</td>\n",
       "      <td>2014</td>\n",
       "      <td>Yes</td>\n",
       "      <td>18.34</td>\n",
       "      <td>18.34</td>\n",
       "      <td>No</td>\n",
       "      <td>Yes</td>\n",
       "    </tr>\n",
       "    <tr>\n",
       "      <th>1751</th>\n",
       "      <td>occupied Palestinian territory, including east...</td>\n",
       "      <td>2016</td>\n",
       "      <td>Yes</td>\n",
       "      <td>16.24</td>\n",
       "      <td>16.24</td>\n",
       "      <td>No</td>\n",
       "      <td>Yes</td>\n",
       "    </tr>\n",
       "    <tr>\n",
       "      <th>1752</th>\n",
       "      <td>occupied Palestinian territory, including east...</td>\n",
       "      <td>2018</td>\n",
       "      <td>Yes</td>\n",
       "      <td>17.20</td>\n",
       "      <td>17.20</td>\n",
       "      <td>No</td>\n",
       "      <td>Yes</td>\n",
       "    </tr>\n",
       "    <tr>\n",
       "      <th>1753</th>\n",
       "      <td>occupied Palestinian territory, including east...</td>\n",
       "      <td>2020</td>\n",
       "      <td>Yes</td>\n",
       "      <td>19.76</td>\n",
       "      <td>19.76</td>\n",
       "      <td>No</td>\n",
       "      <td>Yes</td>\n",
       "    </tr>\n",
       "    <tr>\n",
       "      <th>1754</th>\n",
       "      <td>occupied Palestinian territory, including east...</td>\n",
       "      <td>2022</td>\n",
       "      <td>Yes</td>\n",
       "      <td>18.59</td>\n",
       "      <td>18.59</td>\n",
       "      <td>No</td>\n",
       "      <td>Yes</td>\n",
       "    </tr>\n",
       "  </tbody>\n",
       "</table>\n",
       "<p>1755 rows × 7 columns</p>\n",
       "</div>"
      ],
      "text/plain": [
       "                                               Location  Period  \\\n",
       "0                                           Afghanistan    2007   \n",
       "1                                           Afghanistan    2008   \n",
       "2                                           Afghanistan    2010   \n",
       "3                                           Afghanistan    2012   \n",
       "4                                           Afghanistan    2014   \n",
       "...                                                 ...     ...   \n",
       "1750  occupied Palestinian territory, including east...    2014   \n",
       "1751  occupied Palestinian territory, including east...    2016   \n",
       "1752  occupied Palestinian territory, including east...    2018   \n",
       "1753  occupied Palestinian territory, including east...    2020   \n",
       "1754  occupied Palestinian territory, including east...    2022   \n",
       "\n",
       "     advertisingBan  affordability  gdp2000Cigs healthWarningPhoto  \\\n",
       "0                No            NaN          NaN     Not applicable   \n",
       "1                No            NaN          NaN     Not applicable   \n",
       "2                No            NaN          NaN     Not applicable   \n",
       "3                No           3.75         3.75     Not applicable   \n",
       "4                No           4.67         4.67     Not applicable   \n",
       "...             ...            ...          ...                ...   \n",
       "1750            Yes          18.34        18.34                 No   \n",
       "1751            Yes          16.24        16.24                 No   \n",
       "1752            Yes          17.20        17.20                 No   \n",
       "1753            Yes          19.76        19.76                 No   \n",
       "1754            Yes          18.59        18.59                 No   \n",
       "\n",
       "     requiredHealthWarnings  \n",
       "0                        No  \n",
       "1                        No  \n",
       "2                        No  \n",
       "3                        No  \n",
       "4                        No  \n",
       "...                     ...  \n",
       "1750                    Yes  \n",
       "1751                    Yes  \n",
       "1752                    Yes  \n",
       "1753                    Yes  \n",
       "1754                    Yes  \n",
       "\n",
       "[1755 rows x 7 columns]"
      ]
     },
     "execution_count": 9,
     "metadata": {},
     "output_type": "execute_result"
    }
   ],
   "source": [
    "\n",
    "# Merge the pivoted dataframes on 'Location'\n",
    "combined_df = advertisingBan.merge(affordability, on=['Location','Period'], how='outer')\n",
    "combined_df = combined_df.merge(gdp2000Cigs, on=['Location','Period'], how='outer')\n",
    "combined_df = combined_df.merge(healthWarningPhoto, on=['Location','Period'], how='outer')\n",
    "combined_df = combined_df.merge(requiredHealthWarnings, on=['Location','Period'], how='outer')\n",
    "combined_df"
   ]
  },
  {
   "cell_type": "code",
   "execution_count": 10,
   "metadata": {},
   "outputs": [
    {
     "name": "stdout",
     "output_type": "stream",
     "text": [
      "Pre-cleanse:  1755\n",
      "Post-cleanse: 1170\n"
     ]
    }
   ],
   "source": [
    "# Pre-cleansed\n",
    "print('Pre-cleanse: ', len(combined_df))\n",
    "\n",
    "combined_df = combined_df.replace({'Not applicable': 'No'})\n",
    "combined_fg = combined_df.dropna()\n",
    "print('Post-cleanse:', len(combined_fg))\n",
    "combined_df = combined_fg.sort_values('Period')"
   ]
  },
  {
   "cell_type": "code",
   "execution_count": 11,
   "metadata": {},
   "outputs": [
    {
     "name": "stdout",
     "output_type": "stream",
     "text": [
      "Index(['Period', 'advertisingBan', 'affordability', 'gdp2000Cigs',\n",
      "       'healthWarningPhoto', 'requiredHealthWarnings'],\n",
      "      dtype='object')\n"
     ]
    }
   ],
   "source": [
    "import pandas as pd\n",
    "from sklearn.impute import SimpleImputer\n",
    "from sklearn.preprocessing import StandardScaler, OneHotEncoder\n",
    "from sklearn.compose import ColumnTransformer\n",
    "from sklearn.pipeline import Pipeline\n",
    "\n",
    "# Drop 'Location' for clustering\n",
    "data_for_clustering = combined_df.drop(columns=['Location'])\n",
    "\n",
    "# Fix the typo in `astpye` and convert 'Period' to datetime\n",
    "data_for_clustering['Period'] = pd.to_datetime(data_for_clustering['Period'])\n",
    "\n",
    "# Preprocessing pipeline: imputing, encoding, and scaling\n",
    "numeric_features = data_for_clustering.select_dtypes(include=['float64', 'int64']).columns\n",
    "categorical_features = data_for_clustering.select_dtypes(include=['object']).columns\n",
    "\n",
    "# Define the numeric transformer pipeline\n",
    "numeric_transformer = Pipeline(steps=[\n",
    "    ('imputer', SimpleImputer(strategy='mean')),\n",
    "    ('scaler', StandardScaler())\n",
    "])\n",
    "\n",
    "# Define the categorical transformer pipeline\n",
    "categorical_transformer = Pipeline(steps=[\n",
    "    ('imputer', SimpleImputer(strategy='most_frequent')),\n",
    "    ('encoder', OneHotEncoder(handle_unknown='ignore'))\n",
    "])\n",
    "\n",
    "# Combine the numeric and categorical transformations\n",
    "preprocessor = ColumnTransformer(\n",
    "    transformers=[\n",
    "        ('num', numeric_transformer, numeric_features),\n",
    "        ('cat', categorical_transformer, categorical_features)\n",
    "    ])\n",
    "\n",
    "# Check columns to ensure 'Period' exists before setting it as index\n",
    "print(data_for_clustering.columns)\n",
    "\n",
    "# Set 'Period' as index, which should be excluded from clustering\n",
    "reindexed_df = data_for_clustering.set_index('Period')\n",
    "\n",
    "# Prepare the final data for clustering\n",
    "clustering_data = preprocessor.fit_transform(reindexed_df)"
   ]
  },
  {
   "cell_type": "code",
   "execution_count": 12,
   "metadata": {},
   "outputs": [
    {
     "name": "stderr",
     "output_type": "stream",
     "text": [
      "c:\\Users\\Folke\\AppData\\Local\\Programs\\Python\\Python312\\Lib\\site-packages\\tslearn\\bases\\bases.py:15: UserWarning: h5py not installed, hdf5 features will not be supported.\n",
      "Install h5py to use hdf5 features: http://docs.h5py.org/\n",
      "  warn(h5py_msg)\n"
     ]
    },
    {
     "name": "stdout",
     "output_type": "stream",
     "text": [
      "silhouette_score: 0.2750450728684959\n",
      "davies_bouldin_score: 0.983050958335222\n",
      "silhouette_score: 0.39730006140792296\n",
      "davies_bouldin_score: 1.0832004802906812\n",
      "silhouette_score: 0.4451072911582563\n",
      "davies_bouldin_score: 1.3396895804412357\n",
      "silhouette_score: 0.3746846208846413\n",
      "davies_bouldin_score: 1.3797859333728233\n",
      "silhouette_score: 0.3682556286457778\n",
      "davies_bouldin_score: 1.1222159215461855\n",
      "silhouette_score: 0.38322669950472177\n",
      "davies_bouldin_score: 1.3298290208195882\n",
      "silhouette_score: 0.38297523746646234\n",
      "davies_bouldin_score: 1.1720414482656019\n"
     ]
    }
   ],
   "source": [
    "from tslearn.clustering import TimeSeriesKMeans\n",
    "from tslearn.utils import to_time_series_dataset\n",
    "\n",
    "X = to_time_series_dataset(clustering_data)\n",
    "result = pd.DataFrame(columns=['k', 'silhouette' ,'davies_bouldin'])\n",
    "\n",
    "K = np.arange(5, 36, 5)\n",
    "\n",
    "for k in K:\n",
    "    kmeans = TimeSeriesKMeans(n_clusters=k, metric='dtw')\n",
    "    kmeans.fit(clustering_data)\n",
    "    mask = kmeans.labels_ != -1\n",
    "    data = clustering_data[mask]\n",
    "    labels = kmeans.labels_[mask]\n",
    "\n",
    "    silhouette = evaluate_clusters(silhouette_score, data, labels)\n",
    "    davies_bouldin = evaluate_clusters(davies_bouldin_score, data, labels)\n",
    "    \n",
    "    result.loc[len(result)] = [k, silhouette, davies_bouldin]\n",
    "    \n"
   ]
  },
  {
   "cell_type": "code",
   "execution_count": 17,
   "metadata": {},
   "outputs": [
    {
     "data": {
      "text/plain": [
       "Text(0, 0.5, 'score')"
      ]
     },
     "execution_count": 17,
     "metadata": {},
     "output_type": "execute_result"
    },
    {
     "data": {
      "image/png": "[encoded data removed]",
      "text/plain": [
       "<Figure size 640x480 with 1 Axes>"
      ]
     },
     "metadata": {},
     "output_type": "display_data"
    }
   ],
   "source": [
    "import matplotlib.pyplot as plt\n",
    "k_sort = result.sort_values('k', ascending=True)\n",
    "plt.plot(k_sort['k'], k_sort['silhouette'])\n",
    "plt.plot(k_sort['k'], k_sort['davies_bouldin'])\n",
    "plt.legend(['silhouette', 'davies-bouldin'])\n",
    "plt.title('Time series KMean | Dynamic time warping')\n",
    "plt.xlabel('k')\n",
    "plt.ylabel('score')"
   ]
  },
  {
   "cell_type": "markdown",
   "metadata": {},
   "source": [
    "## k=20 looks ok, highest silhouette, 'low' davies-bouldin"
   ]
  },
  {
   "cell_type": "code",
   "execution_count": 14,
   "metadata": {},
   "outputs": [],
   "source": [
    "X = to_time_series_dataset(clustering_data)"
   ]
  },
  {
   "cell_type": "code",
   "execution_count": 15,
   "metadata": {},
   "outputs": [
    {
     "name": "stdout",
     "output_type": "stream",
     "text": [
      "silhouette_score: 0.38297523746646234\n",
      "davies_bouldin_score: 1.1720414482656019\n"
     ]
    }
   ],
   "source": [
    "\n",
    "kmeans = TimeSeriesKMeans(n_clusters=20, metric='dtw')\n",
    "kmeans.fit(X)\n",
    "silhouette = evaluate_clusters(silhouette_score, data, labels)\n",
    "davies_bouldin = evaluate_clusters(davies_bouldin_score, data, labels)"
   ]
  },
  {
   "cell_type": "code",
   "execution_count": 16,
   "metadata": {},
   "outputs": [],
   "source": [
    "#plot_clusters_2d(kmeans, X, reindexed_df)"
   ]
  }
 ],
 "metadata": {
  "kernelspec": {
   "display_name": ".venv",
   "language": "python",
   "name": "python3"
  },
  "language_info": {
   "codemirror_mode": {
    "name": "ipython",
    "version": 3
   },
   "file_extension": ".py",
   "mimetype": "text/x-python",
   "name": "python",
   "nbconvert_exporter": "python",
   "pygments_lexer": "ipython3",
   "version": "3.12.3"
  }
 },
 "nbformat": 4,
 "nbformat_minor": 2
}
